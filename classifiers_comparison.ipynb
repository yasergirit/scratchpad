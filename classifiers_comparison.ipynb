{
 "cells": [
  {
   "cell_type": "code",
   "execution_count": 1,
   "metadata": {},
   "outputs": [],
   "source": [
    "# Import library\n",
    "from sklearn.datasets import make_classification"
   ]
  },
  {
   "cell_type": "code",
   "execution_count": 2,
   "metadata": {},
   "outputs": [],
   "source": [
    "X, y = make_classification(n_samples=1200, n_classes=2, n_features=7,\n",
    "                          n_redundant=0, random_state=53)"
   ]
  },
  {
   "cell_type": "code",
   "execution_count": 4,
   "metadata": {},
   "outputs": [
    {
     "data": {
      "text/plain": [
       "(1200, 7)"
      ]
     },
     "execution_count": 4,
     "metadata": {},
     "output_type": "execute_result"
    }
   ],
   "source": [
    "X.shape"
   ]
  },
  {
   "cell_type": "code",
   "execution_count": 6,
   "metadata": {},
   "outputs": [
    {
     "data": {
      "text/plain": [
       "(1200,)"
      ]
     },
     "execution_count": 6,
     "metadata": {},
     "output_type": "execute_result"
    }
   ],
   "source": [
    "y.shape"
   ]
  },
  {
   "cell_type": "code",
   "execution_count": 10,
   "metadata": {},
   "outputs": [],
   "source": [
    "# Splitting data\n",
    "from sklearn.model_selection import train_test_split"
   ]
  },
  {
   "cell_type": "code",
   "execution_count": 11,
   "metadata": {},
   "outputs": [],
   "source": [
    "X_train, X_test, y_train, y_test = train_test_split(X, y, test_size=0.20)"
   ]
  },
  {
   "cell_type": "code",
   "execution_count": 12,
   "metadata": {},
   "outputs": [
    {
     "data": {
      "text/plain": [
       "((960, 7), (960,))"
      ]
     },
     "execution_count": 12,
     "metadata": {},
     "output_type": "execute_result"
    }
   ],
   "source": [
    "X_train.shape, y_train.shape"
   ]
  },
  {
   "cell_type": "code",
   "execution_count": 13,
   "metadata": {},
   "outputs": [
    {
     "data": {
      "text/plain": [
       "((240, 7), (240,))"
      ]
     },
     "execution_count": 13,
     "metadata": {},
     "output_type": "execute_result"
    }
   ],
   "source": [
    "X_test.shape, y_test.shape"
   ]
  },
  {
   "cell_type": "code",
   "execution_count": 32,
   "metadata": {},
   "outputs": [],
   "source": [
    "# Classification models\n",
    "\n",
    "import pandas as pd\n",
    "\n",
    "from sklearn.neural_network import MLPClassifier\n",
    "from sklearn.neighbors import KNeighborsClassifier\n",
    "from sklearn.svm import SVC\n",
    "from sklearn.gaussian_process import GaussianProcessClassifier\n",
    "from sklearn.ensemble import GradientBoostingClassifier\n",
    "from sklearn.gaussian_process.kernels import RBF\n",
    "from sklearn.tree import DecisionTreeClassifier\n",
    "from sklearn.ensemble import ExtraTreesClassifier\n",
    "from sklearn.ensemble import RandomForestClassifier, AdaBoostClassifier\n",
    "from sklearn.naive_bayes import GaussianNB\n",
    "from sklearn.discriminant_analysis import QuadraticDiscriminantAnalysis\n",
    "from sklearn.linear_model import SGDClassifier"
   ]
  },
  {
   "cell_type": "code",
   "execution_count": 16,
   "metadata": {},
   "outputs": [],
   "source": [
    "names = [\"Nearest_Neighbors\", \"Linear_SVM\", \"Polynomial_SVM\", \"RBF_SVM\", \"Gaussian_Process\",\n",
    "         \"Gradient_Boosting\", \"Decision_Tree\", \"Extra_Trees\", \"Random_Forest\", \"Neural_Net\", \"AdaBoost\",\n",
    "         \"Naive_Bayes\", \"QDA\", \"SGD\"]\n",
    "\n",
    "classifiers = [\n",
    "    KNeighborsClassifier(3),\n",
    "    SVC(kernel=\"linear\", C=0.025),\n",
    "    SVC(kernel=\"poly\", degree=3, C=0.025),\n",
    "    SVC(kernel=\"rbf\", C=1, gamma=2),\n",
    "    GaussianProcessClassifier(1.0 * RBF(1.0)),\n",
    "    GradientBoostingClassifier(n_estimators=100, learning_rate=1.0),\n",
    "    DecisionTreeClassifier(max_depth=5),\n",
    "    ExtraTreesClassifier(n_estimators=10, min_samples_split=2),\n",
    "    RandomForestClassifier(max_depth=5, n_estimators=100),\n",
    "    MLPClassifier(alpha=1, max_iter=1000),\n",
    "    AdaBoostClassifier(n_estimators=100),\n",
    "    GaussianNB(),\n",
    "    QuadraticDiscriminantAnalysis(),\n",
    "    SGDClassifier(loss=\"hinge\", penalty=\"l2\")]"
   ]
  },
  {
   "cell_type": "code",
   "execution_count": 19,
   "metadata": {},
   "outputs": [],
   "source": [
    "scores = []\n",
    "for name, clf in zip(names, classifiers):\n",
    "    clf.fit(X_train, y_train)\n",
    "    score = clf.score(X_test, y_test)\n",
    "    scores.append(score)"
   ]
  },
  {
   "cell_type": "code",
   "execution_count": 20,
   "metadata": {},
   "outputs": [
    {
     "data": {
      "text/plain": [
       "[0.9083333333333333,\n",
       " 0.9,\n",
       " 0.9125,\n",
       " 0.8291666666666667,\n",
       " 0.9,\n",
       " 0.9083333333333333,\n",
       " 0.9083333333333333,\n",
       " 0.8791666666666667,\n",
       " 0.9166666666666666,\n",
       " 0.9125,\n",
       " 0.9125,\n",
       " 0.9,\n",
       " 0.9041666666666667,\n",
       " 0.9208333333333333]"
      ]
     },
     "execution_count": 20,
     "metadata": {},
     "output_type": "execute_result"
    }
   ],
   "source": [
    "scores"
   ]
  },
  {
   "cell_type": "code",
   "execution_count": 30,
   "metadata": {},
   "outputs": [],
   "source": [
    "# Analysis of model performance\n",
    "import matplotlib.pyplot as plt\n",
    "import pandas as pd\n",
    "import seaborn as sns\n"
   ]
  },
  {
   "cell_type": "code",
   "execution_count": 22,
   "metadata": {},
   "outputs": [
    {
     "data": {
      "text/html": [
       "<div>\n",
       "<style scoped>\n",
       "    .dataframe tbody tr th:only-of-type {\n",
       "        vertical-align: middle;\n",
       "    }\n",
       "\n",
       "    .dataframe tbody tr th {\n",
       "        vertical-align: top;\n",
       "    }\n",
       "\n",
       "    .dataframe thead th {\n",
       "        text-align: right;\n",
       "    }\n",
       "</style>\n",
       "<table border=\"1\" class=\"dataframe\">\n",
       "  <thead>\n",
       "    <tr style=\"text-align: right;\">\n",
       "      <th></th>\n",
       "      <th>name</th>\n",
       "      <th>score</th>\n",
       "    </tr>\n",
       "  </thead>\n",
       "  <tbody>\n",
       "    <tr>\n",
       "      <th>0</th>\n",
       "      <td>Nearest_Neighbors</td>\n",
       "      <td>0.908333</td>\n",
       "    </tr>\n",
       "    <tr>\n",
       "      <th>1</th>\n",
       "      <td>Linear_SVM</td>\n",
       "      <td>0.900000</td>\n",
       "    </tr>\n",
       "    <tr>\n",
       "      <th>2</th>\n",
       "      <td>Polynomial_SVM</td>\n",
       "      <td>0.912500</td>\n",
       "    </tr>\n",
       "    <tr>\n",
       "      <th>3</th>\n",
       "      <td>RBF_SVM</td>\n",
       "      <td>0.829167</td>\n",
       "    </tr>\n",
       "    <tr>\n",
       "      <th>4</th>\n",
       "      <td>Gaussian_Process</td>\n",
       "      <td>0.900000</td>\n",
       "    </tr>\n",
       "    <tr>\n",
       "      <th>5</th>\n",
       "      <td>Gradient_Boosting</td>\n",
       "      <td>0.908333</td>\n",
       "    </tr>\n",
       "    <tr>\n",
       "      <th>6</th>\n",
       "      <td>Decision_Tree</td>\n",
       "      <td>0.908333</td>\n",
       "    </tr>\n",
       "    <tr>\n",
       "      <th>7</th>\n",
       "      <td>Extra_Trees</td>\n",
       "      <td>0.879167</td>\n",
       "    </tr>\n",
       "    <tr>\n",
       "      <th>8</th>\n",
       "      <td>Random_Forest</td>\n",
       "      <td>0.916667</td>\n",
       "    </tr>\n",
       "    <tr>\n",
       "      <th>9</th>\n",
       "      <td>Neural_Net</td>\n",
       "      <td>0.912500</td>\n",
       "    </tr>\n",
       "    <tr>\n",
       "      <th>10</th>\n",
       "      <td>AdaBoost</td>\n",
       "      <td>0.912500</td>\n",
       "    </tr>\n",
       "    <tr>\n",
       "      <th>11</th>\n",
       "      <td>Naive_Bayes</td>\n",
       "      <td>0.900000</td>\n",
       "    </tr>\n",
       "    <tr>\n",
       "      <th>12</th>\n",
       "      <td>QDA</td>\n",
       "      <td>0.904167</td>\n",
       "    </tr>\n",
       "    <tr>\n",
       "      <th>13</th>\n",
       "      <td>SGD</td>\n",
       "      <td>0.920833</td>\n",
       "    </tr>\n",
       "  </tbody>\n",
       "</table>\n",
       "</div>"
      ],
      "text/plain": [
       "                 name     score\n",
       "0   Nearest_Neighbors  0.908333\n",
       "1          Linear_SVM  0.900000\n",
       "2      Polynomial_SVM  0.912500\n",
       "3             RBF_SVM  0.829167\n",
       "4    Gaussian_Process  0.900000\n",
       "5   Gradient_Boosting  0.908333\n",
       "6       Decision_Tree  0.908333\n",
       "7         Extra_Trees  0.879167\n",
       "8       Random_Forest  0.916667\n",
       "9          Neural_Net  0.912500\n",
       "10           AdaBoost  0.912500\n",
       "11        Naive_Bayes  0.900000\n",
       "12                QDA  0.904167\n",
       "13                SGD  0.920833"
      ]
     },
     "execution_count": 22,
     "metadata": {},
     "output_type": "execute_result"
    }
   ],
   "source": [
    "df = pd.DataFrame()\n",
    "df['name'] = names\n",
    "df['score'] = scores\n",
    "df"
   ]
  },
  {
   "cell_type": "code",
   "execution_count": 24,
   "metadata": {},
   "outputs": [
    {
     "data": {
      "text/html": [
       "<style  type=\"text/css\" >\n",
       "    #T_4d541a58_4399_11eb_9c66_303a64ba3907row0_col1 {\n",
       "            background-color:  #1f1fff;\n",
       "            color:  #f1f1f1;\n",
       "        }    #T_4d541a58_4399_11eb_9c66_303a64ba3907row1_col1 {\n",
       "            background-color:  #3434ff;\n",
       "            color:  #f1f1f1;\n",
       "        }    #T_4d541a58_4399_11eb_9c66_303a64ba3907row2_col1 {\n",
       "            background-color:  #1515ff;\n",
       "            color:  #f1f1f1;\n",
       "        }    #T_4d541a58_4399_11eb_9c66_303a64ba3907row3_col1 {\n",
       "            background-color:  #e5e5ff;\n",
       "            color:  #000000;\n",
       "        }    #T_4d541a58_4399_11eb_9c66_303a64ba3907row4_col1 {\n",
       "            background-color:  #3434ff;\n",
       "            color:  #f1f1f1;\n",
       "        }    #T_4d541a58_4399_11eb_9c66_303a64ba3907row5_col1 {\n",
       "            background-color:  #1f1fff;\n",
       "            color:  #f1f1f1;\n",
       "        }    #T_4d541a58_4399_11eb_9c66_303a64ba3907row6_col1 {\n",
       "            background-color:  #1f1fff;\n",
       "            color:  #f1f1f1;\n",
       "        }    #T_4d541a58_4399_11eb_9c66_303a64ba3907row7_col1 {\n",
       "            background-color:  #6868ff;\n",
       "            color:  #000000;\n",
       "        }    #T_4d541a58_4399_11eb_9c66_303a64ba3907row8_col1 {\n",
       "            background-color:  #0a0aff;\n",
       "            color:  #f1f1f1;\n",
       "        }    #T_4d541a58_4399_11eb_9c66_303a64ba3907row9_col1 {\n",
       "            background-color:  #1515ff;\n",
       "            color:  #f1f1f1;\n",
       "        }    #T_4d541a58_4399_11eb_9c66_303a64ba3907row10_col1 {\n",
       "            background-color:  #1515ff;\n",
       "            color:  #f1f1f1;\n",
       "        }    #T_4d541a58_4399_11eb_9c66_303a64ba3907row11_col1 {\n",
       "            background-color:  #3434ff;\n",
       "            color:  #f1f1f1;\n",
       "        }    #T_4d541a58_4399_11eb_9c66_303a64ba3907row12_col1 {\n",
       "            background-color:  #2929ff;\n",
       "            color:  #f1f1f1;\n",
       "        }    #T_4d541a58_4399_11eb_9c66_303a64ba3907row13_col1 {\n",
       "            background-color:  #0000ff;\n",
       "            color:  #f1f1f1;\n",
       "        }</style><table id=\"T_4d541a58_4399_11eb_9c66_303a64ba3907\" ><thead>    <tr>        <th class=\"blank level0\" ></th>        <th class=\"col_heading level0 col0\" >name</th>        <th class=\"col_heading level0 col1\" >score</th>    </tr></thead><tbody>\n",
       "                <tr>\n",
       "                        <th id=\"T_4d541a58_4399_11eb_9c66_303a64ba3907level0_row0\" class=\"row_heading level0 row0\" >0</th>\n",
       "                        <td id=\"T_4d541a58_4399_11eb_9c66_303a64ba3907row0_col0\" class=\"data row0 col0\" >Nearest_Neighbors</td>\n",
       "                        <td id=\"T_4d541a58_4399_11eb_9c66_303a64ba3907row0_col1\" class=\"data row0 col1\" >0.908333</td>\n",
       "            </tr>\n",
       "            <tr>\n",
       "                        <th id=\"T_4d541a58_4399_11eb_9c66_303a64ba3907level0_row1\" class=\"row_heading level0 row1\" >1</th>\n",
       "                        <td id=\"T_4d541a58_4399_11eb_9c66_303a64ba3907row1_col0\" class=\"data row1 col0\" >Linear_SVM</td>\n",
       "                        <td id=\"T_4d541a58_4399_11eb_9c66_303a64ba3907row1_col1\" class=\"data row1 col1\" >0.900000</td>\n",
       "            </tr>\n",
       "            <tr>\n",
       "                        <th id=\"T_4d541a58_4399_11eb_9c66_303a64ba3907level0_row2\" class=\"row_heading level0 row2\" >2</th>\n",
       "                        <td id=\"T_4d541a58_4399_11eb_9c66_303a64ba3907row2_col0\" class=\"data row2 col0\" >Polynomial_SVM</td>\n",
       "                        <td id=\"T_4d541a58_4399_11eb_9c66_303a64ba3907row2_col1\" class=\"data row2 col1\" >0.912500</td>\n",
       "            </tr>\n",
       "            <tr>\n",
       "                        <th id=\"T_4d541a58_4399_11eb_9c66_303a64ba3907level0_row3\" class=\"row_heading level0 row3\" >3</th>\n",
       "                        <td id=\"T_4d541a58_4399_11eb_9c66_303a64ba3907row3_col0\" class=\"data row3 col0\" >RBF_SVM</td>\n",
       "                        <td id=\"T_4d541a58_4399_11eb_9c66_303a64ba3907row3_col1\" class=\"data row3 col1\" >0.829167</td>\n",
       "            </tr>\n",
       "            <tr>\n",
       "                        <th id=\"T_4d541a58_4399_11eb_9c66_303a64ba3907level0_row4\" class=\"row_heading level0 row4\" >4</th>\n",
       "                        <td id=\"T_4d541a58_4399_11eb_9c66_303a64ba3907row4_col0\" class=\"data row4 col0\" >Gaussian_Process</td>\n",
       "                        <td id=\"T_4d541a58_4399_11eb_9c66_303a64ba3907row4_col1\" class=\"data row4 col1\" >0.900000</td>\n",
       "            </tr>\n",
       "            <tr>\n",
       "                        <th id=\"T_4d541a58_4399_11eb_9c66_303a64ba3907level0_row5\" class=\"row_heading level0 row5\" >5</th>\n",
       "                        <td id=\"T_4d541a58_4399_11eb_9c66_303a64ba3907row5_col0\" class=\"data row5 col0\" >Gradient_Boosting</td>\n",
       "                        <td id=\"T_4d541a58_4399_11eb_9c66_303a64ba3907row5_col1\" class=\"data row5 col1\" >0.908333</td>\n",
       "            </tr>\n",
       "            <tr>\n",
       "                        <th id=\"T_4d541a58_4399_11eb_9c66_303a64ba3907level0_row6\" class=\"row_heading level0 row6\" >6</th>\n",
       "                        <td id=\"T_4d541a58_4399_11eb_9c66_303a64ba3907row6_col0\" class=\"data row6 col0\" >Decision_Tree</td>\n",
       "                        <td id=\"T_4d541a58_4399_11eb_9c66_303a64ba3907row6_col1\" class=\"data row6 col1\" >0.908333</td>\n",
       "            </tr>\n",
       "            <tr>\n",
       "                        <th id=\"T_4d541a58_4399_11eb_9c66_303a64ba3907level0_row7\" class=\"row_heading level0 row7\" >7</th>\n",
       "                        <td id=\"T_4d541a58_4399_11eb_9c66_303a64ba3907row7_col0\" class=\"data row7 col0\" >Extra_Trees</td>\n",
       "                        <td id=\"T_4d541a58_4399_11eb_9c66_303a64ba3907row7_col1\" class=\"data row7 col1\" >0.879167</td>\n",
       "            </tr>\n",
       "            <tr>\n",
       "                        <th id=\"T_4d541a58_4399_11eb_9c66_303a64ba3907level0_row8\" class=\"row_heading level0 row8\" >8</th>\n",
       "                        <td id=\"T_4d541a58_4399_11eb_9c66_303a64ba3907row8_col0\" class=\"data row8 col0\" >Random_Forest</td>\n",
       "                        <td id=\"T_4d541a58_4399_11eb_9c66_303a64ba3907row8_col1\" class=\"data row8 col1\" >0.916667</td>\n",
       "            </tr>\n",
       "            <tr>\n",
       "                        <th id=\"T_4d541a58_4399_11eb_9c66_303a64ba3907level0_row9\" class=\"row_heading level0 row9\" >9</th>\n",
       "                        <td id=\"T_4d541a58_4399_11eb_9c66_303a64ba3907row9_col0\" class=\"data row9 col0\" >Neural_Net</td>\n",
       "                        <td id=\"T_4d541a58_4399_11eb_9c66_303a64ba3907row9_col1\" class=\"data row9 col1\" >0.912500</td>\n",
       "            </tr>\n",
       "            <tr>\n",
       "                        <th id=\"T_4d541a58_4399_11eb_9c66_303a64ba3907level0_row10\" class=\"row_heading level0 row10\" >10</th>\n",
       "                        <td id=\"T_4d541a58_4399_11eb_9c66_303a64ba3907row10_col0\" class=\"data row10 col0\" >AdaBoost</td>\n",
       "                        <td id=\"T_4d541a58_4399_11eb_9c66_303a64ba3907row10_col1\" class=\"data row10 col1\" >0.912500</td>\n",
       "            </tr>\n",
       "            <tr>\n",
       "                        <th id=\"T_4d541a58_4399_11eb_9c66_303a64ba3907level0_row11\" class=\"row_heading level0 row11\" >11</th>\n",
       "                        <td id=\"T_4d541a58_4399_11eb_9c66_303a64ba3907row11_col0\" class=\"data row11 col0\" >Naive_Bayes</td>\n",
       "                        <td id=\"T_4d541a58_4399_11eb_9c66_303a64ba3907row11_col1\" class=\"data row11 col1\" >0.900000</td>\n",
       "            </tr>\n",
       "            <tr>\n",
       "                        <th id=\"T_4d541a58_4399_11eb_9c66_303a64ba3907level0_row12\" class=\"row_heading level0 row12\" >12</th>\n",
       "                        <td id=\"T_4d541a58_4399_11eb_9c66_303a64ba3907row12_col0\" class=\"data row12 col0\" >QDA</td>\n",
       "                        <td id=\"T_4d541a58_4399_11eb_9c66_303a64ba3907row12_col1\" class=\"data row12 col1\" >0.904167</td>\n",
       "            </tr>\n",
       "            <tr>\n",
       "                        <th id=\"T_4d541a58_4399_11eb_9c66_303a64ba3907level0_row13\" class=\"row_heading level0 row13\" >13</th>\n",
       "                        <td id=\"T_4d541a58_4399_11eb_9c66_303a64ba3907row13_col0\" class=\"data row13 col0\" >SGD</td>\n",
       "                        <td id=\"T_4d541a58_4399_11eb_9c66_303a64ba3907row13_col1\" class=\"data row13 col1\" >0.920833</td>\n",
       "            </tr>\n",
       "    </tbody></table>"
      ],
      "text/plain": [
       "<pandas.io.formats.style.Styler at 0xf6eb5d4f08>"
      ]
     },
     "execution_count": 24,
     "metadata": {},
     "output_type": "execute_result"
    }
   ],
   "source": [
    "cm = sns.light_palette(\"blue\", as_cmap=True)\n",
    "s = df.style.background_gradient(cmap=cm)\n",
    "s"
   ]
  },
  {
   "cell_type": "code",
   "execution_count": 31,
   "metadata": {},
   "outputs": [
    {
     "data": {
      "image/png": "[encoded data removed]",
      "text/plain": [
       "<Figure size 1152x576 with 1 Axes>"
      ]
     },
     "metadata": {},
     "output_type": "display_data"
    }
   ],
   "source": [
    "fig, ax = plt.subplots(figsize=(16,8))\n",
    "sns.set(style=\"whitegrid\")\n",
    "ax = sns.barplot(y=\"name\", x=\"score\", data=df)"
   ]
  },
  {
   "cell_type": "code",
   "execution_count": null,
   "metadata": {},
   "outputs": [],
   "source": []
  }
 ],
 "metadata": {
  "kernelspec": {
   "display_name": "Python 3.7.4 64-bit",
   "language": "python",
   "name": "python37464bit2672a966fa31419898ae6e36d7c9d19f"
  },
  "language_info": {
   "codemirror_mode": {
    "name": "ipython",
    "version": 3
   },
   "file_extension": ".py",
   "mimetype": "text/x-python",
   "name": "python",
   "nbconvert_exporter": "python",
   "pygments_lexer": "ipython3",
   "version": "3.7.4"
  }
 },
 "nbformat": 4,
 "nbformat_minor": 4
}
